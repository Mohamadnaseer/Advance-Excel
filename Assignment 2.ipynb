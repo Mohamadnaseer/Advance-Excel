{
 "cells": [
  {
   "cell_type": "markdown",
   "id": "bffe5504",
   "metadata": {},
   "source": [
    "# Advance Excel Assignment 2 (one neuron)"
   ]
  },
  {
   "cell_type": "markdown",
   "id": "46939358",
   "metadata": {},
   "source": [
    "## What does the dollar sign do?"
   ]
  },
  {
   "cell_type": "markdown",
   "id": "b2e04772",
   "metadata": {},
   "source": [
    "The dollar sign in an Excel cell reference serves just one purpose - it tells Excel whether to change or not to change the reference when the formula is copied to other cells."
   ]
  },
  {
   "cell_type": "markdown",
   "id": "25477b53",
   "metadata": {},
   "source": [
    "## 2. How to Change the Reference from Relative to Absolute (or Mixed)?\n"
   ]
  },
  {
   "cell_type": "markdown",
   "id": "f2324388",
   "metadata": {},
   "source": [
    "1.Select the cell that contains the formula."
   ]
  },
  {
   "cell_type": "markdown",
   "id": "650ebd3f",
   "metadata": {},
   "source": [
    "2.In the formula bar. , select the reference that you want to change."
   ]
  },
  {
   "cell_type": "markdown",
   "id": "8de26426",
   "metadata": {},
   "source": [
    "3.Press F4 to switch between the reference types."
   ]
  },
  {
   "cell_type": "markdown",
   "id": "026cbcfb",
   "metadata": {},
   "source": [
    "## 3. Explain the order of operations in excel?\n"
   ]
  },
  {
   "cell_type": "markdown",
   "id": "693e2435",
   "metadata": {},
   "source": [
    "In general, Excel's order of operation follows the acronym PEMDAS (Parentheses, Exponents, Multiplication, Division, Addition, Subtraction) but with some customization to handle the formula syntax in a spreadsheet. First, any expressions in parentheses are evaluated."
   ]
  },
  {
   "cell_type": "markdown",
   "id": "d82b498c",
   "metadata": {},
   "source": [
    "## 4. What, according to you, are the top 5 functions in excel and write a basic syntax for any of two?\n"
   ]
  },
  {
   "cell_type": "markdown",
   "id": "82de2605",
   "metadata": {},
   "source": [
    "1.The SUM Function. "
   ]
  },
  {
   "cell_type": "markdown",
   "id": "09298bae",
   "metadata": {},
   "source": [
    "2.The TEXT Function. "
   ]
  },
  {
   "cell_type": "markdown",
   "id": "797ddc34",
   "metadata": {},
   "source": [
    "3.The VLOOKUP Function. "
   ]
  },
  {
   "cell_type": "markdown",
   "id": "32e4937d",
   "metadata": {},
   "source": [
    "4.The AVERAGE Function. "
   ]
  },
  {
   "cell_type": "markdown",
   "id": "34896a75",
   "metadata": {},
   "source": [
    "5.The CONCATENATE Function."
   ]
  },
  {
   "cell_type": "markdown",
   "id": "4773e046",
   "metadata": {},
   "source": [
    "## 5. When would you use the subtotal function?\n"
   ]
  },
  {
   "cell_type": "markdown",
   "id": "893084c1",
   "metadata": {},
   "source": [
    "The SUBTOTAL function is used when you display a Total row in an Excel Table. Excel inserts the SUBTOTAL function automatically, and you can use a drop-down menu to switch behavior and show max, min, average, etc."
   ]
  },
  {
   "cell_type": "markdown",
   "id": "5271319d",
   "metadata": {},
   "source": [
    "## 6. What is the syntax of the vlookup function? Explain the terms in it?"
   ]
  },
  {
   "cell_type": "markdown",
   "id": "d3d2be3e",
   "metadata": {},
   "source": [
    "1.In its simplest form, the VLOOKUP function says:  =VLOOKUP(What you want to look up, where you want to look for it, the column number in the range containing the value to return, return an Approximate or Exact match – indicated as 1/TRUE, or 0/FALSE)."
   ]
  },
  {
   "cell_type": "markdown",
   "id": "a30f7dfc",
   "metadata": {},
   "source": [
    "2.Lookup_value (required) - is the value to search for.  Range_lookup (optional) - determines whether to search for approximate or exact match: TRUE or omitted (default) - approximate match. If an exact match is not found, the formula searches for the largest value that is smaller than the lookup value."
   ]
  }
 ],
 "metadata": {
  "kernelspec": {
   "display_name": "Python 3 (ipykernel)",
   "language": "python",
   "name": "python3"
  },
  "language_info": {
   "codemirror_mode": {
    "name": "ipython",
    "version": 3
   },
   "file_extension": ".py",
   "mimetype": "text/x-python",
   "name": "python",
   "nbconvert_exporter": "python",
   "pygments_lexer": "ipython3",
   "version": "3.9.7"
  }
 },
 "nbformat": 4,
 "nbformat_minor": 5
}
