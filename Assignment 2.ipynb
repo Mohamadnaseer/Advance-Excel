{
 "cells": [
  {
   "cell_type": "markdown",
   "id": "965da74b",
   "metadata": {},
   "source": [
    "# Advance Excel Assignment 2 (one neuron)"
   ]
  },
  {
   "cell_type": "markdown",
   "id": "34f4fd36",
   "metadata": {},
   "source": [
    "## What does the dollar sign do?"
   ]
  },
  {
   "cell_type": "markdown",
   "id": "42ae1aab",
   "metadata": {},
   "source": [
    "The dollar sign in an Excel cell reference serves just one purpose - it tells Excel whether to change or not to change the reference when the formula is copied to other cells."
   ]
  },
  {
   "cell_type": "markdown",
   "id": "7e05b25a",
   "metadata": {},
   "source": [
    "## 2. How to Change the Reference from Relative to Absolute (or Mixed)?\n"
   ]
  },
  {
   "cell_type": "raw",
   "id": "979ecd91",
   "metadata": {},
   "source": [
    "1.Select the cell that contains the formula.\n",
    "2.In the formula bar. , select the reference that you want to change.\n",
    "3.Press F4 to switch between the reference types."
   ]
  },
  {
   "cell_type": "markdown",
   "id": "b307d924",
   "metadata": {},
   "source": [
    "## 3. Explain the order of operations in excel?\n"
   ]
  },
  {
   "cell_type": "raw",
   "id": "97e3681b",
   "metadata": {},
   "source": [
    "In general, Excel's order of operation follows the acronym PEMDAS (Parentheses, Exponents, Multiplication, Division, Addition, Subtraction) but with some customization to handle the formula syntax in a spreadsheet. First, any expressions in parentheses are evaluated."
   ]
  },
  {
   "cell_type": "markdown",
   "id": "c4b4e3ab",
   "metadata": {},
   "source": [
    "## 4. What, according to you, are the top 5 functions in excel and write a basic syntax for any of two?\n"
   ]
  },
  {
   "cell_type": "raw",
   "id": "75f14381",
   "metadata": {},
   "source": [
    "1.The SUM Function. \n",
    "2.The TEXT Function. \n",
    "3.The VLOOKUP Function. \n",
    "4.The AVERAGE Function. \n",
    "5.The CONCATENATE Function."
   ]
  },
  {
   "cell_type": "markdown",
   "id": "dd0cfc91",
   "metadata": {},
   "source": [
    "## 5. When would you use the subtotal function?\n"
   ]
  },
  {
   "cell_type": "raw",
   "id": "f24891d7",
   "metadata": {},
   "source": [
    "The SUBTOTAL function is used when you display a Total row in an Excel Table. Excel inserts the SUBTOTAL function automatically, and you can use a drop-down menu to switch behavior and show max, min, average, etc."
   ]
  },
  {
   "cell_type": "markdown",
   "id": "be2f12de",
   "metadata": {},
   "source": [
    "## 6. What is the syntax of the vlookup function? Explain the terms in it?"
   ]
  },
  {
   "cell_type": "raw",
   "id": "4ef99a6b",
   "metadata": {},
   "source": [
    "1.In its simplest form, the VLOOKUP function says:  =VLOOKUP(What you want to look up, where you want to look for it, the column number in the range containing the value to return, return an Approximate or Exact match – indicated as 1/TRUE, or 0/FALSE).\n",
    "2.Lookup_value (required) - is the value to search for.  Range_lookup (optional) - determines whether to search for approximate or exact match: TRUE or omitted (default) - approximate match. If an exact match is not found, the formula searches for the largest value that is smaller than the lookup value."
   ]
  }
 ],
 "metadata": {
  "kernelspec": {
   "display_name": "Python 3 (ipykernel)",
   "language": "python",
   "name": "python3"
  },
  "language_info": {
   "codemirror_mode": {
    "name": "ipython",
    "version": 3
   },
   "file_extension": ".py",
   "mimetype": "text/x-python",
   "name": "python",
   "nbconvert_exporter": "python",
   "pygments_lexer": "ipython3",
   "version": "3.9.7"
  }
 },
 "nbformat": 4,
 "nbformat_minor": 5
}
