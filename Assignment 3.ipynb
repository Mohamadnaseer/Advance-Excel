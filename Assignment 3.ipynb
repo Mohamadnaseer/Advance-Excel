{
 "cells": [
  {
   "cell_type": "markdown",
   "id": "b5524d0b",
   "metadata": {},
   "source": [
    "# Advance Excel Assignment 3 (one neuron)"
   ]
  },
  {
   "cell_type": "markdown",
   "id": "5d1b339c",
   "metadata": {},
   "source": [
    "## 1. How and when to use the AutoSum command in excel?"
   ]
  },
  {
   "cell_type": "markdown",
   "id": "4ca3d175",
   "metadata": {},
   "source": [
    "If you need to sum a column or row of numbers, let Excel do the math for you. Select a cell next to the numbers you want to sum, click AutoSum on the Home tab, press Enter, and you're done. When you click AutoSum, Excel automatically enters a formula (that uses the SUM function) to sum the numbers."
   ]
  },
  {
   "cell_type": "markdown",
   "id": "8dd29ef4",
   "metadata": {},
   "source": [
    "## 2. What is the shortcut key to perform AutoSum?"
   ]
  },
  {
   "cell_type": "markdown",
   "id": "0a1be0dd",
   "metadata": {},
   "source": [
    "The Autosum Excel function can be accessed by typing ALT + the = sign in a spreadsheet, and it will automatically create a formula to sum all the numbers in a continuous range."
   ]
  },
  {
   "cell_type": "markdown",
   "id": "1a1630e6",
   "metadata": {},
   "source": [
    "## 3. How do you get rid of Formula that omits adjacent cells?"
   ]
  },
  {
   "cell_type": "markdown",
   "id": "82c5e755",
   "metadata": {},
   "source": [
    "1.Open Excel and then click on File.\n"
   ]
  },
  {
   "cell_type": "markdown",
   "id": "8ca65e0e",
   "metadata": {},
   "source": [
    "2.Go to Options and then select Formulas.\n"
   ]
  },
  {
   "cell_type": "markdown",
   "id": "e383e148",
   "metadata": {},
   "source": [
    "3.Look for Error checking rules and uncheck Formulas which omit cells in a region.\n"
   ]
  },
  {
   "cell_type": "markdown",
   "id": "7aff618f",
   "metadata": {},
   "source": [
    "4.Click OK."
   ]
  },
  {
   "cell_type": "markdown",
   "id": "4506b877",
   "metadata": {},
   "source": [
    "## 4. How do you select non-adjacent cells in Excel 2016?"
   ]
  },
  {
   "cell_type": "markdown",
   "id": "8e629e80",
   "metadata": {},
   "source": [
    "1.Click on a cell to select it. Or use the keyboard to navigate to it and select it.\n"
   ]
  },
  {
   "cell_type": "markdown",
   "id": "0a7b61d8",
   "metadata": {},
   "source": [
    "2.To select a range, select a cell, then with the left mouse button pressed, drag over the other cells. ...\n"
   ]
  },
  {
   "cell_type": "markdown",
   "id": "a0de471c",
   "metadata": {},
   "source": [
    "3.To select non-adjacent cells and cell ranges, hold Ctrl and select the cells."
   ]
  },
  {
   "cell_type": "markdown",
   "id": "d1864b54",
   "metadata": {},
   "source": [
    "## 5. What happens if you choose a column, hold down the Alt key and press the letters ocw in quick succession?\n"
   ]
  },
  {
   "cell_type": "markdown",
   "id": "50d14217",
   "metadata": {},
   "source": [
    "The current selected cell is B5. ... d) The cell contents will be duplicated. 6) What happens if you select a column, hold down the Alt key and press the letters ocw in quick succession? a) The contents of the first cell in the selected column will be replaced with the letters 'O-C-W'."
   ]
  },
  {
   "cell_type": "markdown",
   "id": "c59cca97",
   "metadata": {},
   "source": [
    "## 6. If you right-click on a row reference number and click on Insert, where will the rowbe added?"
   ]
  },
  {
   "cell_type": "markdown",
   "id": "b6bd40aa",
   "metadata": {},
   "source": [
    "Insert or delete a row\n"
   ]
  },
  {
   "cell_type": "markdown",
   "id": "d5db1194",
   "metadata": {},
   "source": [
    "1.Select any cell within the row, then go to Home > Insert > Insert Sheet Rows or Delete Sheet Rows.\n"
   ]
  },
  {
   "cell_type": "markdown",
   "id": "3ed756f1",
   "metadata": {},
   "source": [
    "2.Alternatively, right-click the row number, and then select Insert or Delete."
   ]
  }
 ],
 "metadata": {
  "kernelspec": {
   "display_name": "Python 3 (ipykernel)",
   "language": "python",
   "name": "python3"
  },
  "language_info": {
   "codemirror_mode": {
    "name": "ipython",
    "version": 3
   },
   "file_extension": ".py",
   "mimetype": "text/x-python",
   "name": "python",
   "nbconvert_exporter": "python",
   "pygments_lexer": "ipython3",
   "version": "3.9.7"
  }
 },
 "nbformat": 4,
 "nbformat_minor": 5
}
