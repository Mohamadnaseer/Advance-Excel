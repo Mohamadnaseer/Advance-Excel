{
 "cells": [
  {
   "cell_type": "markdown",
   "id": "aae3dec6",
   "metadata": {},
   "source": [
    "# Advance Excel Assignment 1(one neuron) "
   ]
  },
  {
   "cell_type": "markdown",
   "id": "8c0233b5",
   "metadata": {},
   "source": [
    "## 1. What do you mean by cells in an excel sheet?"
   ]
  },
  {
   "cell_type": "raw",
   "id": "387fabc1",
   "metadata": {},
   "source": [
    "Cell: \n",
    "     A cell is a rectangular area formed by the intersection of a column and a row. Cells are identified by the Cell Name (or Reference, which is found by combining the Column Letter with the Row Number. For example the cell in Column \"C\" in Row \"3\" would be cell C3."
   ]
  },
  {
   "cell_type": "markdown",
   "id": "cc81a41b",
   "metadata": {},
   "source": [
    "## 2.How can you restrict someone from copying a cell from your worksheet?"
   ]
  },
  {
   "cell_type": "raw",
   "id": "c1b60437",
   "metadata": {},
   "source": [
    "On the worksheet, select the cells you want to lock. Press Ctrl+Shift+F again. On the Protection tab, check the Locked box, and click OK."
   ]
  },
  {
   "cell_type": "markdown",
   "id": "ac86a9d4",
   "metadata": {},
   "source": [
    "## 3.How to move or copy the worksheet into another workbook?"
   ]
  },
  {
   "cell_type": "raw",
   "id": "9080990c",
   "metadata": {},
   "source": [
    "On the Edit menu, click Sheet > Move or Copy Sheet. On the To book menu, click the workbook that you want to copy the sheet to. Tip: To create a new workbook that contains the moved sheet, click new book. In the Before sheet box, click the sheet that you want to insert the copied sheet before, or click move to end."
   ]
  },
  {
   "cell_type": "markdown",
   "id": "5678d544",
   "metadata": {},
   "source": [
    "## 4. Which key is used as a shortcut for opening a new window document?"
   ]
  },
  {
   "cell_type": "raw",
   "id": "798c485c",
   "metadata": {},
   "source": [
    "Ctrl + O -- Open options. Ctrl + N -- Open new document."
   ]
  },
  {
   "cell_type": "markdown",
   "id": "0b482775",
   "metadata": {},
   "source": [
    "## 5. What are the things that we can notice after opening the Excel interface?"
   ]
  },
  {
   "cell_type": "raw",
   "id": "b7dc4240",
   "metadata": {},
   "source": [
    "When you open a workbook, Microsoft Excel may display multiple windows that contain a copy of that same workbook. Additionally, the title bar displays the workbook name followed by a colon and a number, such as Book1:1 and Book1:2. The taskbar in Microsoft Windows also displays a button for each of these windows."
   ]
  },
  {
   "cell_type": "markdown",
   "id": "40b692c5",
   "metadata": {},
   "source": [
    "## 6. When to use a relative cell reference in excel?"
   ]
  },
  {
   "cell_type": "raw",
   "id": "3d2cd4cb",
   "metadata": {},
   "source": [
    "For example, if you copy the formula =A1+B1 from row 1 to row 2, the formula will become =A2+B2. Relative references are especially convenient whenever you need to repeat the same calculation across multiple rows or columns."
   ]
  }
 ],
 "metadata": {
  "kernelspec": {
   "display_name": "Python 3 (ipykernel)",
   "language": "python",
   "name": "python3"
  },
  "language_info": {
   "codemirror_mode": {
    "name": "ipython",
    "version": 3
   },
   "file_extension": ".py",
   "mimetype": "text/x-python",
   "name": "python",
   "nbconvert_exporter": "python",
   "pygments_lexer": "ipython3",
   "version": "3.9.7"
  }
 },
 "nbformat": 4,
 "nbformat_minor": 5
}
